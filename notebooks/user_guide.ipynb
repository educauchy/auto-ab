{
 "cells": [
  {
   "cell_type": "markdown",
   "metadata": {},
   "source": [
    "# How to use auto_ab library"
   ]
  },
  {
   "cell_type": "code",
   "execution_count": 1,
   "metadata": {},
   "outputs": [],
   "source": [
    "import sys, yaml, os, json\n",
    "import pandas as pd\n",
    "import numpy as np\n",
    "\n",
    "sys.path.append(str('../'))\n",
    "from auto_ab import ABTest, Splitter, VarianceReduction, Graphics"
   ]
  },
  {
   "cell_type": "markdown",
   "metadata": {},
   "source": [
    "## Loading config file"
   ]
  },
  {
   "cell_type": "code",
   "execution_count": 2,
   "metadata": {},
   "outputs": [],
   "source": [
    "try:\n",
    "    project_dir = os.path.dirname(os.path.abspath(''))\n",
    "    config_file = os.path.join(project_dir, 'config.yaml')\n",
    "    with open (config_file, 'r') as file:\n",
    "        config = yaml.safe_load(file)\n",
    "except yaml.YAMLError as exc:\n",
    "    print(exc)\n",
    "    sys.exit(1)\n",
    "except Exception as e:\n",
    "    print('Error reading the config file')\n",
    "    sys.exit(1)"
   ]
  },
  {
   "cell_type": "markdown",
   "metadata": {},
   "source": [
    "## Loading dataset"
   ]
  },
  {
   "cell_type": "code",
   "execution_count": null,
   "metadata": {},
   "outputs": [],
   "source": [
    "data = pd.read_csv(os.path.join(project_dir, 'data/internal/guide/data.csv'), index_col='id')\n",
    "data.head()"
   ]
  },
  {
   "cell_type": "markdown",
   "metadata": {},
   "source": [
    "## Initialization of splitter\n",
    "\n",
    "If you are going to run MDE simulation, **split_rate** parameter can be omitted."
   ]
  },
  {
   "cell_type": "code",
   "execution_count": null,
   "metadata": {},
   "outputs": [],
   "source": [
    "splitter = Splitter(split_rate=config['splitter']['split_rate'])"
   ]
  },
  {
   "cell_type": "markdown",
   "metadata": {},
   "source": [
    "## Initialization of A/B-test\n",
    "\n",
    "Here\n",
    "- **alpha** — significance level\n",
    "- **alternative** — 'less', 'more', 'two-sided'"
   ]
  },
  {
   "cell_type": "code",
   "execution_count": null,
   "metadata": {},
   "outputs": [],
   "source": [
    "ab = ABTest(alpha=config['hypothesis']['alpha'], \n",
    "            alternative=config['hypothesis']['alternative'])"
   ]
  },
  {
   "cell_type": "markdown",
   "metadata": {},
   "source": [
    "### Set loaded dataset as analyzed"
   ]
  },
  {
   "cell_type": "code",
   "execution_count": null,
   "metadata": {},
   "outputs": [],
   "source": [
    "ab.use_dataset(data, id_col=config['data']['id_col'],\n",
    "              target=config['data']['target'])"
   ]
  },
  {
   "cell_type": "markdown",
   "metadata": {},
   "source": [
    "### Set previously defined splitter for test"
   ]
  },
  {
   "cell_type": "code",
   "execution_count": null,
   "metadata": {},
   "outputs": [],
   "source": [
    "ab.splitter = splitter"
   ]
  },
  {
   "cell_type": "markdown",
   "metadata": {},
   "source": [
    "### Set list of split rates for MDE exploration"
   ]
  },
  {
   "cell_type": "code",
   "execution_count": null,
   "metadata": {},
   "outputs": [],
   "source": [
    "ab.split_rates = config['simulation']['split_rates']"
   ]
  },
  {
   "cell_type": "markdown",
   "metadata": {},
   "source": [
    "### Set list of increments for MDE exploration\n",
    "\n",
    "Here\n",
    "- **inc_var** — list of increments, i.e. [1, 2, 3, 4, 5]\n",
    "- **extra_paramms** — extra parameters for increment, currently not used in analysis"
   ]
  },
  {
   "cell_type": "code",
   "execution_count": null,
   "metadata": {},
   "outputs": [],
   "source": [
    "ab.set_increment(inc_var=config['simulation']['increment']['vars'],\n",
    "                extra_params=config['simulation']['increment']['extra_params'])"
   ]
  },
  {
   "cell_type": "markdown",
   "metadata": {},
   "source": [
    "### Create metric which you want to compare\n",
    "\n",
    "In the example below, we want to compare 10th percentile of control and treatment distributions"
   ]
  },
  {
   "cell_type": "code",
   "execution_count": null,
   "metadata": {},
   "outputs": [],
   "source": [
    "def metric(X: np.array) -> float:\n",
    "    return np.quantile(X, 0.1)"
   ]
  },
  {
   "cell_type": "markdown",
   "metadata": {},
   "source": [
    "### MDE simulation in order to find the best combination of split rate—increment\n",
    "\n",
    "Here\n",
    "- **n_iter** — number of iterations of simulation\n",
    "- **n_boot_samples** — set if you choose bootstrap hypothesis testing\n",
    "- **metric_type** — metric type: ratio or solid (continuous)\n",
    "- **metric** — Python function as tested metric (quantile, median, mean, etc)\n",
    "- **strategy** — strategy of hypothesis testing\n",
    "- **strata** — strata column name for variance reduction\n",
    "- **strata_weights** — weights of each unique value in strata column as a dictionary\n",
    "- **to_csv** — whether or not to save the result to csv file\n",
    "- **csv_path** — path to the newly created csv file"
   ]
  },
  {
   "cell_type": "code",
   "execution_count": null,
   "metadata": {},
   "outputs": [],
   "source": [
    "res = ab.mde_simulation(n_iter=config['simulation']['n_iter'],\n",
    "                       n_boot_samples=config['hypothesis']['n_boot_samples'],\n",
    "                       metric_type=config['metric']['metric_type'],\n",
    "                       metric=metric,\n",
    "                       strategy=config['hypothesis']['strategy'],\n",
    "                       strata=config['hypothesis']['strata'],\n",
    "                       strata_weights=config['hypothesis']['strata_weights'],\n",
    "                       to_csv=config['result']['to_csv'],\n",
    "                       csv_path=config['result']['csv_path'])"
   ]
  },
  {
   "cell_type": "markdown",
   "metadata": {},
   "source": [
    "### Print simulation log\n",
    "\n",
    "Here\n",
    "- **first key** — split rate\n",
    "- **second key** — increment\n",
    "- **value** — share of rejected H0"
   ]
  },
  {
   "cell_type": "code",
   "execution_count": null,
   "metadata": {},
   "outputs": [],
   "source": [
    "print(json.dumps(res, indent=4))"
   ]
  },
  {
   "cell_type": "markdown",
   "metadata": {},
   "source": [
    "### Visualize simulation log in plot"
   ]
  },
  {
   "cell_type": "code",
   "execution_count": 3,
   "metadata": {},
   "outputs": [
    {
     "data": {
      "image/png": "[encoded data removed]",
      "text/plain": [
       "<Figure size 1080x576 with 2 Axes>"
      ]
     },
     "metadata": {
      "needs_background": "light"
     },
     "output_type": "display_data"
    }
   ],
   "source": [
    "gf = Graphics()\n",
    "gf.plot_simulation_log(config['result']['csv_path'])"
   ]
  },
  {
   "cell_type": "markdown",
   "metadata": {},
   "source": [
    "## Perform A/B-test"
   ]
  },
  {
   "cell_type": "markdown",
   "metadata": {},
   "source": [
    "### Loading dataset generated during A/B-test\n",
    "\n",
    "Here\n",
    "- **height_now** — experiment metric during experiment\n",
    "- **height_prev** — experiment metric before experiment\n",
    "- **weight_now** — highly correlated feature with metric during experiment\n",
    "- **weight_prev** — highly correlated feature with metric before experiment\n",
    "- **noise_now** — feature during experiment that is just noise\n",
    "- **noise_prev** — feature before experiment that is just noise\n",
    "- **groups** — groups column"
   ]
  },
  {
   "cell_type": "code",
   "execution_count": 4,
   "metadata": {},
   "outputs": [
    {
     "data": {
      "text/html": [
       "<div>\n",
       "<style scoped>\n",
       "    .dataframe tbody tr th:only-of-type {\n",
       "        vertical-align: middle;\n",
       "    }\n",
       "\n",
       "    .dataframe tbody tr th {\n",
       "        vertical-align: top;\n",
       "    }\n",
       "\n",
       "    .dataframe thead th {\n",
       "        text-align: right;\n",
       "    }\n",
       "</style>\n",
       "<table border=\"1\" class=\"dataframe\">\n",
       "  <thead>\n",
       "    <tr style=\"text-align: right;\">\n",
       "      <th></th>\n",
       "      <th>height_now</th>\n",
       "      <th>height_prev</th>\n",
       "      <th>weight_now</th>\n",
       "      <th>weight_prev</th>\n",
       "      <th>noise_now</th>\n",
       "      <th>noise_prev</th>\n",
       "      <th>groups</th>\n",
       "    </tr>\n",
       "  </thead>\n",
       "  <tbody>\n",
       "    <tr>\n",
       "      <th>0</th>\n",
       "      <td>172.470442</td>\n",
       "      <td>166.382868</td>\n",
       "      <td>163.648256</td>\n",
       "      <td>173.422115</td>\n",
       "      <td>5.644384</td>\n",
       "      <td>-1.923929</td>\n",
       "      <td>A</td>\n",
       "    </tr>\n",
       "    <tr>\n",
       "      <th>1</th>\n",
       "      <td>178.610565</td>\n",
       "      <td>173.386388</td>\n",
       "      <td>173.195935</td>\n",
       "      <td>180.831845</td>\n",
       "      <td>11.664751</td>\n",
       "      <td>2.711829</td>\n",
       "      <td>B</td>\n",
       "    </tr>\n",
       "    <tr>\n",
       "      <th>2</th>\n",
       "      <td>180.382301</td>\n",
       "      <td>178.563579</td>\n",
       "      <td>174.520065</td>\n",
       "      <td>181.571024</td>\n",
       "      <td>7.183178</td>\n",
       "      <td>-0.453939</td>\n",
       "      <td>A</td>\n",
       "    </tr>\n",
       "    <tr>\n",
       "      <th>3</th>\n",
       "      <td>180.954018</td>\n",
       "      <td>179.732080</td>\n",
       "      <td>175.731245</td>\n",
       "      <td>182.840388</td>\n",
       "      <td>-4.682656</td>\n",
       "      <td>6.358723</td>\n",
       "      <td>B</td>\n",
       "    </tr>\n",
       "    <tr>\n",
       "      <th>4</th>\n",
       "      <td>167.590042</td>\n",
       "      <td>167.684244</td>\n",
       "      <td>166.109779</td>\n",
       "      <td>170.189261</td>\n",
       "      <td>9.134517</td>\n",
       "      <td>-1.153977</td>\n",
       "      <td>B</td>\n",
       "    </tr>\n",
       "  </tbody>\n",
       "</table>\n",
       "</div>"
      ],
      "text/plain": [
       "   height_now  height_prev  weight_now  weight_prev  noise_now  noise_prev  \\\n",
       "0  172.470442   166.382868  163.648256   173.422115   5.644384   -1.923929   \n",
       "1  178.610565   173.386388  173.195935   180.831845  11.664751    2.711829   \n",
       "2  180.382301   178.563579  174.520065   181.571024   7.183178   -0.453939   \n",
       "3  180.954018   179.732080  175.731245   182.840388  -4.682656    6.358723   \n",
       "4  167.590042   167.684244  166.109779   170.189261   9.134517   -1.153977   \n",
       "\n",
       "  groups  \n",
       "0      A  \n",
       "1      B  \n",
       "2      A  \n",
       "3      B  \n",
       "4      B  "
      ]
     },
     "execution_count": 4,
     "metadata": {},
     "output_type": "execute_result"
    }
   ],
   "source": [
    "ab_data = pd.read_csv(os.path.join(project_dir, 'data/internal/guide/ab_data.csv'))\n",
    "ab_data.head()"
   ]
  },
  {
   "cell_type": "code",
   "execution_count": 10,
   "metadata": {},
   "outputs": [
    {
     "data": {
      "image/png": "[encoded data removed]",
      "text/plain": [
       "<Figure size 432x288 with 1 Axes>"
      ]
     },
     "metadata": {
      "needs_background": "light"
     },
     "output_type": "display_data"
    }
   ],
   "source": [
    "gf.plot_distributions(ab_data, 'height_now', 'groups', 50, '')"
   ]
  },
  {
   "cell_type": "markdown",
   "metadata": {},
   "source": [
    "### Use CUPED to reduce variance\n",
    "\n",
    "After the execution, new column is introduced — **height_now_cuped**."
   ]
  },
  {
   "cell_type": "code",
   "execution_count": 15,
   "metadata": {},
   "outputs": [
    {
     "name": "stdout",
     "output_type": "stream",
     "text": [
      "Covariate is column `height_prev`\n",
      "   height_now  height_prev  weight_now  weight_prev  noise_now  noise_prev  \\\n",
      "0  172.470442   166.382868  163.648256   173.422115   5.644384   -1.923929   \n",
      "1  178.610565   173.386388  173.195935   180.831845  11.664751    2.711829   \n",
      "2  180.382301   178.563579  174.520065   181.571024   7.183178   -0.453939   \n",
      "3  180.954018   179.732080  175.731245   182.840388  -4.682656    6.358723   \n",
      "4  167.590042   167.684244  166.109779   170.189261   9.134517   -1.153977   \n",
      "\n",
      "  groups  height_now_cuped  \n",
      "0      A        177.314721  \n",
      "1      B        177.420444  \n",
      "2      A        174.723145  \n",
      "3      B        174.292002  \n",
      "4      B        171.316884  \n"
     ]
    }
   ],
   "source": [
    "vr = VarianceReduction()\n",
    "ab_data_cuped = vr.cuped(ab_data, target='height_now', groups='groups', covariate='height_prev')\n",
    "print(ab_data_cuped.head())"
   ]
  },
  {
   "cell_type": "code",
   "execution_count": 16,
   "metadata": {},
   "outputs": [
    {
     "data": {
      "image/png": "[encoded data removed]",
      "text/plain": [
       "<Figure size 432x288 with 1 Axes>"
      ]
     },
     "metadata": {
      "needs_background": "light"
     },
     "output_type": "display_data"
    }
   ],
   "source": [
    "gf.plot_distributions(ab_data_cuped, 'height_now_cuped', 'groups', 50, '')"
   ]
  },
  {
   "cell_type": "markdown",
   "metadata": {},
   "source": [
    "As can be seen, variance reduced **from 160 to 170** on the left and **from 190 to 180** on the right."
   ]
  },
  {
   "cell_type": "markdown",
   "metadata": {},
   "source": [
    "### Use CUPAC to reduce variance\n",
    "\n",
    "Below you can see the model that was created to predict covariate to experiment period.\n",
    "After the execution, new column is introduced — **target_pred**."
   ]
  },
  {
   "cell_type": "code",
   "execution_count": 18,
   "metadata": {},
   "outputs": [
    {
     "name": "stdout",
     "output_type": "stream",
     "text": [
      "                                 OLS Regression Results                                \n",
      "=======================================================================================\n",
      "Dep. Variable:            height_prev   R-squared (uncentered):                   1.000\n",
      "Model:                            OLS   Adj. R-squared (uncentered):              1.000\n",
      "Method:                 Least Squares   F-statistic:                          1.198e+09\n",
      "Date:                Wed, 25 Aug 2021   Prob (F-statistic):                        0.00\n",
      "Time:                        16:52:06   Log-Likelihood:                     -4.4357e+05\n",
      "No. Observations:              200000   AIC:                                  8.871e+05\n",
      "Df Residuals:                  199999   BIC:                                  8.871e+05\n",
      "Df Model:                           1                                                  \n",
      "Covariance Type:            nonrobust                                                  \n",
      "===============================================================================\n",
      "                  coef    std err          t      P>|t|      [0.025      0.975]\n",
      "-------------------------------------------------------------------------------\n",
      "weight_prev     0.9718   2.81e-05   3.46e+04      0.000       0.972       0.972\n",
      "==============================================================================\n",
      "Omnibus:                        0.885   Durbin-Watson:                   1.995\n",
      "Prob(Omnibus):                  0.642   Jarque-Bera (JB):                0.877\n",
      "Skew:                           0.003   Prob(JB):                        0.645\n",
      "Kurtosis:                       3.008   Cond. No.                         1.00\n",
      "==============================================================================\n",
      "\n",
      "Notes:\n",
      "[1] R² is computed without centering (uncentered) since the model does not contain a constant.\n",
      "[2] Standard Errors assume that the covariance matrix of the errors is correctly specified.\n",
      "Covariate is column `target_pred`\n"
     ]
    }
   ],
   "source": [
    "ab_data_cupac = vr.cupac(ab_data, target_prev='height_prev', target_now='height_now',\n",
    "               factors_prev=['weight_prev'],\n",
    "               factors_now=['weight_now'], groups='groups')"
   ]
  },
  {
   "cell_type": "code",
   "execution_count": 19,
   "metadata": {},
   "outputs": [
    {
     "name": "stdout",
     "output_type": "stream",
     "text": [
      "   height_now  height_prev  weight_now  weight_prev  noise_now  noise_prev  \\\n",
      "0  172.470442   166.382868  163.648256   173.422115   5.644384   -1.923929   \n",
      "1  178.610565   173.386388  173.195935   180.831845  11.664751    2.711829   \n",
      "2  180.382301   178.563579  174.520065   181.571024   7.183178   -0.453939   \n",
      "3  180.954018   179.732080  175.731245   182.840388  -4.682656    6.358723   \n",
      "4  167.590042   167.684244  166.109779   170.189261   9.134517   -1.153977   \n",
      "\n",
      "  groups  height_now_cuped  target_pred  \n",
      "0      A        177.935483   159.033172  \n",
      "1      B        175.854315   168.311595  \n",
      "2      A        176.476356   169.598383  \n",
      "3      B        176.012450   170.775406  \n",
      "4      B        170.941725   161.425277  \n"
     ]
    }
   ],
   "source": [
    "print(ab_data_cupac.head())"
   ]
  },
  {
   "cell_type": "code",
   "execution_count": 20,
   "metadata": {},
   "outputs": [
    {
     "data": {
      "image/png": "[encoded data removed]",
      "text/plain": [
       "<Figure size 432x288 with 1 Axes>"
      ]
     },
     "metadata": {
      "needs_background": "light"
     },
     "output_type": "display_data"
    }
   ],
   "source": [
    "gf.plot_distributions(ab_data_cupac, 'height_now_cuped', 'groups', 50, '')"
   ]
  },
  {
   "cell_type": "markdown",
   "metadata": {},
   "source": [
    "As can be seen, variance reduced **from 160 to 170** on the left and **from 190 to 180** on the right."
   ]
  },
  {
   "cell_type": "code",
   "execution_count": null,
   "metadata": {},
   "outputs": [],
   "source": []
  }
 ],
 "metadata": {
  "kernelspec": {
   "display_name": "Python 3",
   "language": "python",
   "name": "python3"
  },
  "language_info": {
   "codemirror_mode": {
    "name": "ipython",
    "version": 3
   },
   "file_extension": ".py",
   "mimetype": "text/x-python",
   "name": "python",
   "nbconvert_exporter": "python",
   "pygments_lexer": "ipython3",
   "version": "3.7.8"
  }
 },
 "nbformat": 4,
 "nbformat_minor": 4
}
